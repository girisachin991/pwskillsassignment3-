{
 "cells": [
  {
   "cell_type": "code",
   "execution_count": null,
   "id": "d0723505-82f9-463d-83c7-c820cc4aa20b",
   "metadata": {},
   "outputs": [],
   "source": [
    "# 1. What is the difference between a function and a method in Python?\n",
    "'''Functions in Python\n",
    " A function is a block of code which perform some sepecific operation.functions are reusable, neat, clean and organised saves time. Functions have:\n",
    "      Name\n",
    "      Parameters\n",
    "      Return statement\n",
    "     Return statement and parameters are optional. A function can either have them or not.\n",
    "Creating a function in Python\n",
    "      We can create a function using the keyword def.\n",
    "      Syntax\n",
    "         def function_name(arguments):\n",
    "             block of code\n",
    "Types of Functions in Python\n",
    "1. Built-in Functions in Python ----> sum(),print(), lambda etc \n",
    "2. User defined function -----> use keywords def \n",
    "\n",
    "Methods in Python\n",
    "       Functions inside a class are called methods. Methods are associated with a class/object.\n",
    "       Creating a method in Python\n",
    "syntax   class ClassName:\n",
    "         def method_name(parameters):\n",
    "         Statements…\n",
    "     Calling a Method in python\n",
    "    To use a method, we need to call it. We call the method just like a function but since methods are associated with class/object, \n",
    "    we need to use a class/object name and a dot operator to call it.\n",
    "   Syntax\n",
    "      object_name.method_name(arguments) '''"
   ]
  },
  {
   "cell_type": "code",
   "execution_count": 1,
   "id": "1cd3b2e8-a08f-4a54-a10f-407f25692552",
   "metadata": {},
   "outputs": [
    {
     "data": {
      "text/plain": [
       "16"
      ]
     },
     "execution_count": 1,
     "metadata": {},
     "output_type": "execute_result"
    }
   ],
   "source": [
    "# Example of function \n",
    "def square(n):\n",
    "    return n**2\n",
    "square(4)"
   ]
  },
  {
   "cell_type": "code",
   "execution_count": 12,
   "id": "702788a1-a5eb-4c55-9655-f11490053463",
   "metadata": {},
   "outputs": [
    {
     "ename": "TypeError",
     "evalue": "Addition.add() missing 1 required positional argument: 'num2'",
     "output_type": "error",
     "traceback": [
      "\u001b[1;31m---------------------------------------------------------------------------\u001b[0m",
      "\u001b[1;31mTypeError\u001b[0m                                 Traceback (most recent call last)",
      "Cell \u001b[1;32mIn[12], line 5\u001b[0m\n\u001b[0;32m      3\u001b[0m     \u001b[38;5;28;01mdef\u001b[39;00m \u001b[38;5;21madd\u001b[39m(\u001b[38;5;28mself\u001b[39m, num1, num2):\n\u001b[0;32m      4\u001b[0m         \u001b[38;5;28;01mreturn\u001b[39;00m num1 \u001b[38;5;241m+\u001b[39m num2\n\u001b[1;32m----> 5\u001b[0m \u001b[38;5;28mprint\u001b[39m(Addition\u001b[38;5;241m.\u001b[39madd(\u001b[38;5;241m2\u001b[39m, \u001b[38;5;241m3\u001b[39m))\n",
      "\u001b[1;31mTypeError\u001b[0m: Addition.add() missing 1 required positional argument: 'num2'"
     ]
    }
   ],
   "source": [
    "# Example of method \n",
    "class Addition:\n",
    "    def add(self, num1, num2):\n",
    "        return num1 + num2\n",
    "print(Addition.add(2, 3))\n"
   ]
  },
  {
   "cell_type": "code",
   "execution_count": null,
   "id": "88e694a2-92b2-48d9-acbf-651c2eb10ab1",
   "metadata": {},
   "outputs": [],
   "source": [
    "# 2. Explain the concept of function arguments and parameters in Python.\n",
    "'''Parameters:\n",
    "       A parameter is the variable defined within the parentheses during function definition. Simply they are written when we declare a function. \n",
    "Arguments:\n",
    "     An argument is a value that is passed to a function when it is called. \n",
    "     It might be a variable, value or object passed to a function or method as input.\n",
    "     They are written when we are calling the function.'''"
   ]
  },
  {
   "cell_type": "code",
   "execution_count": 14,
   "id": "f23b4aae-af31-4b42-958e-aa313eef76a8",
   "metadata": {},
   "outputs": [
    {
     "name": "stdout",
     "output_type": "stream",
     "text": [
      "3\n"
     ]
    }
   ],
   "source": [
    "def sum(a,b):    # a nd b are parameters \n",
    "  print(a+b)\n",
    "sum(1,2)     # 1 and 2 are arguments"
   ]
  },
  {
   "cell_type": "code",
   "execution_count": null,
   "id": "6f23c48a-c4f7-4a1a-99f0-34430a7523ad",
   "metadata": {},
   "outputs": [],
   "source": [
    "# 3. What are the different ways to define and call a function in Python?\n",
    "'''Functions in Python\n",
    " A function is a block of code which perform some sepecific operation.functions are reusable, neat, clean and organised saves time. Functions have:\n",
    "      Name\n",
    "      Parameters\n",
    "      Return statement\n",
    "     Return statement and parameters are optional.\n",
    "Calling a Function in Python\n",
    "After creating a function in Python we can call it by using the name of the functions Python followed by parenthesis containing parameters of that particular function. '''"
   ]
  },
  {
   "cell_type": "code",
   "execution_count": 16,
   "id": "e922df61-5ffe-4c18-86b1-91f3ff10009f",
   "metadata": {},
   "outputs": [
    {
     "name": "stdout",
     "output_type": "stream",
     "text": [
      "even\n"
     ]
    }
   ],
   "source": [
    "# calling a function \n",
    "def even_odd(x):\n",
    "    if (x % 2 == 0):\n",
    "        print(\"even\")\n",
    "    else:\n",
    "        print(\"odd\")\n",
    "even_odd(4)    # calling the function "
   ]
  },
  {
   "cell_type": "code",
   "execution_count": null,
   "id": "31e4db73-e0c9-4c44-a1c3-9da38b5543c4",
   "metadata": {},
   "outputs": [],
   "source": [
    "# Types of Python Function Arguments\n",
    "'''Python supports various types of arguments that can be passed at the time of the function call. In Python, we have the following function argument types in Python:\n",
    "      1.Default argument\n",
    "      2. Keyword arguments (named arguments)\n",
    "      3.Positional arguments\n",
    "      4. Arbitrary arguments (variable-length arguments *args and **kwargs)\n",
    "-------A default argument is a parameter that assumes a default value if a value is not provided in the function call for that argument. \n",
    "-------The idea is to allow the caller to specify the argument name with values------> keyword arguments \n",
    "-------We used the Position argument during the function call. By changing the position, or if you forget the order of the positions, the values can be used in the wrong places\n",
    "-------In Python Arbitrary Keyword Arguments, *args, and **kwargs can pass a variable number of arguments to a function using special symbols. There are two special symbols:\n",
    "                 1.args in Python (Non-Keyword Arguments)\n",
    "                 2.kwargs in Python (Keyword Arguments)'''"
   ]
  },
  {
   "cell_type": "code",
   "execution_count": 18,
   "id": "4fb6b8c6-dd4c-41ea-8801-d371b3ac120a",
   "metadata": {},
   "outputs": [
    {
     "data": {
      "text/plain": [
       "5"
      ]
     },
     "execution_count": 18,
     "metadata": {},
     "output_type": "execute_result"
    }
   ],
   "source": [
    "# default argument \n",
    "def sum(x,y=5):\n",
    "    return(x+y)\n",
    "sum(2,3)"
   ]
  },
  {
   "cell_type": "code",
   "execution_count": 20,
   "id": "6380e33a-9973-4504-b46d-75aaf9891aee",
   "metadata": {},
   "outputs": [
    {
     "data": {
      "text/plain": [
       "15"
      ]
     },
     "execution_count": 20,
     "metadata": {},
     "output_type": "execute_result"
    }
   ],
   "source": [
    "sum(10)      # use of default argument"
   ]
  },
  {
   "cell_type": "code",
   "execution_count": 24,
   "id": "de66db22-f6b9-41e3-87d1-1684fd62625c",
   "metadata": {},
   "outputs": [
    {
     "name": "stdout",
     "output_type": "stream",
     "text": [
      "Sachin Kumar Giri\n"
     ]
    }
   ],
   "source": [
    "# keyword argument \n",
    "def employee(firstname, lastname):\n",
    "    print(firstname, lastname)\n",
    "employee(firstname=\"Sachin Kumar\",lastname=\"Giri\")\n"
   ]
  },
  {
   "cell_type": "code",
   "execution_count": 26,
   "id": "c5103308-b349-4d53-802a-f0d17e701d30",
   "metadata": {},
   "outputs": [
    {
     "name": "stdout",
     "output_type": "stream",
     "text": [
      "Hi, I am sachin\n",
      "My age is  26\n"
     ]
    }
   ],
   "source": [
    "# positional arguments \n",
    "def name_age(name, age):\n",
    "    print(\"Hi, I am\", name)\n",
    "    print(\"My age is \", age)\n",
    "name_age(\"sachin\",26)"
   ]
  },
  {
   "cell_type": "code",
   "execution_count": 28,
   "id": "6b6121f2-af33-488e-af23-a782d8f407e9",
   "metadata": {},
   "outputs": [
    {
     "name": "stdout",
     "output_type": "stream",
     "text": [
      "Hi, I am 26\n",
      "My age is  sachin\n"
     ]
    }
   ],
   "source": [
    "name_age(26,\"sachin\")"
   ]
  },
  {
   "cell_type": "code",
   "execution_count": null,
   "id": "07bb265e-009d-47b3-bf4f-2b38eea2b7ca",
   "metadata": {},
   "outputs": [],
   "source": [
    "# 4. What is the purpose of the `return` statement in a Python function?\n",
    "'''A return statement is used to end the execution of the function call and “returns” the result to the caller.\n",
    "   The statements after the return statements are not executed. If the return statement is without any expression, then the special value None is returned.'''"
   ]
  },
  {
   "cell_type": "code",
   "execution_count": 30,
   "id": "e2ea379b-87fa-4073-ad33-186cea22c681",
   "metadata": {},
   "outputs": [
    {
     "data": {
      "text/plain": [
       "12"
      ]
     },
     "execution_count": 30,
     "metadata": {},
     "output_type": "execute_result"
    }
   ],
   "source": [
    "# Example of return statement.\n",
    "def product(x,y):\n",
    "    return(x*y)\n",
    "product(3,4)"
   ]
  },
  {
   "cell_type": "code",
   "execution_count": null,
   "id": "59647bb6-196d-4d9d-94d9-17a0585ae381",
   "metadata": {},
   "outputs": [],
   "source": [
    "# 5.  What are iterators in Python and how do they differ from iterables?\n",
    "'''Iterable objects or iterables are the objects we can iterate over. Usually a for loop or simply a loop is used for iteration. \n",
    "   Built-in containers such as lists, tuples, dictionaries, sets, etc. are called pure iterables as they hold the data themselves. \n",
    "   Iterable \n",
    "   Iteration is defined as the repetition of the same process until some condition is satisfied. This repetition can be on the same object or sequence of objects. \n",
    "   Iterables are the objects in Python that let us perform iteration. Iterables return all its members one at a time. An example of iterables is a list.\n",
    "   Sequence types in Python such as lists, strings, tuples, sets, etc. are iterables\n",
    "   Iterators \n",
    "   Iterators are the objects that represent a stream of data and return the data one by one.\n",
    "   Iterators implement both the __iter__() and __next__() methods. Iterators facilitate iteration over iterables.\n",
    "   Iterators are also iterables as we can iterate through them. But not all iterables are iterators.'''\n",
    "   "
   ]
  },
  {
   "cell_type": "code",
   "execution_count": 32,
   "id": "97fef8f8-69c2-4c31-80b3-6cca008f72bb",
   "metadata": {},
   "outputs": [
    {
     "data": {
      "text/plain": [
       "<str_ascii_iterator at 0x2e634a31030>"
      ]
     },
     "execution_count": 32,
     "metadata": {},
     "output_type": "execute_result"
    }
   ],
   "source": [
    "s=\"pwskills\"\n",
    "iter(s)"
   ]
  },
  {
   "cell_type": "code",
   "execution_count": null,
   "id": "7ab0a367-ac77-4fb2-af0e-80d8047d97c0",
   "metadata": {},
   "outputs": [],
   "source": [
    "# 6. Explain the concept of generators in Python and how they are defined.\n",
    "'''A generator function in Python is defined like a normal function, but whenever it needs to generate a value, it does so with the yield keyword rather than return.\n",
    "   If the body of a def contains yield, the function automatically becomes a Python generator function. \n",
    "   Syntax \n",
    "   def function_name():\n",
    "       yield statement '''"
   ]
  },
  {
   "cell_type": "code",
   "execution_count": 36,
   "id": "f6e2d53c-f985-4122-9b33-b90c3858590a",
   "metadata": {},
   "outputs": [
    {
     "data": {
      "text/plain": [
       "<generator object square_number at 0x000002E637503100>"
      ]
     },
     "execution_count": 36,
     "metadata": {},
     "output_type": "execute_result"
    }
   ],
   "source": [
    "def square_number(n):\n",
    "    for i in range(n):\n",
    "        yield i**2\n",
    "square_number(3)"
   ]
  },
  {
   "cell_type": "code",
   "execution_count": 38,
   "id": "cc346feb-89d6-4489-a5ed-89aea8352f17",
   "metadata": {},
   "outputs": [
    {
     "data": {
      "text/plain": [
       "<generator object square_number at 0x000002E637500860>"
      ]
     },
     "execution_count": 38,
     "metadata": {},
     "output_type": "execute_result"
    }
   ],
   "source": [
    "square_number(5)"
   ]
  },
  {
   "cell_type": "code",
   "execution_count": null,
   "id": "e6ab0ae6-c0aa-45d6-b4ce-56751bfa829e",
   "metadata": {},
   "outputs": [],
   "source": [
    "# 7.What are the advantages of using generators over regular functions?\n",
    "'''Memory Efficiency: Generators generate values on the fly, reducing memory usage compared to storing the entire sequence in memory.\n",
    "   Lazy Evaluation: Values are computed only when needed, which can lead to performance improvements, especially with large datasets.\n",
    "   Maintain State: Generators automatically maintain their state between yield statements, making them suitable for iterative processes.\n",
    "    Convenience: Generators simplify code for iterating over large datasets or streams of data without needing to manage state explicitly.'''"
   ]
  },
  {
   "cell_type": "code",
   "execution_count": 40,
   "id": "ddc4fd92-8662-4086-b85d-48b19632655f",
   "metadata": {},
   "outputs": [
    {
     "name": "stdout",
     "output_type": "stream",
     "text": [
      "1\n",
      "1\n",
      "2\n",
      "3\n",
      "5\n",
      "8\n",
      "13\n",
      "21\n",
      "34\n",
      "55\n",
      "89\n",
      "144\n"
     ]
    }
   ],
   "source": [
    "def fib(limit):\n",
    "    a, b = 0, 1\n",
    "    while b < limit:\n",
    "        yield b\n",
    "        a, b = b, a + b\n",
    "x = fib(200)\n",
    "for i in x:\n",
    "    print(i)"
   ]
  },
  {
   "cell_type": "code",
   "execution_count": null,
   "id": "34e16b5a-1aa6-4d17-94c8-d894a6e591fb",
   "metadata": {},
   "outputs": [],
   "source": [
    "# 8. What is a lambda function in Python and when is it typically used?\n",
    "'''Python Lambda Functions are anonymous functions means that the function is without a name. As we already know the def keyword is used to define a normal function in Python. \n",
    "   Similarly, the lambda keyword is used to define an anonymous function in Python. \n",
    "   syntax \n",
    "   lambda arguments : expression\n",
    "   This function can have any number of arguments but only one expression, which is evaluated and returned.\n",
    "   One is free to use lambda functions wherever function objects are required but keep in mind that lambda functions are syntactically restricted to a single expression.\n",
    "   No need to use return statement and def key word.\n",
    "   It helps to shortening the size of code.'''"
   ]
  },
  {
   "cell_type": "code",
   "execution_count": 42,
   "id": "97611a03-3775-415a-a94b-7f3598c10c14",
   "metadata": {},
   "outputs": [
    {
     "data": {
      "text/plain": [
       "4"
      ]
     },
     "execution_count": 42,
     "metadata": {},
     "output_type": "execute_result"
    }
   ],
   "source": [
    "square= lambda x:x**2\n",
    "square(2)"
   ]
  },
  {
   "cell_type": "code",
   "execution_count": null,
   "id": "f4874ff0-f867-4dfd-8243-0069646afea1",
   "metadata": {},
   "outputs": [],
   "source": [
    "# 9.Explain the purpose and usage of the `map()` function in Python.\n",
    "'''Execute specified function for each of items of an iterable. \n",
    "   It is used when you want to apply a single transformation function to all the iterable elements.\n",
    "   lambda functions are not used independently many a times but they are quite often used along with map, reduce and filter.\n",
    "   Syntax \n",
    "    map(function,iterables)'''"
   ]
  },
  {
   "cell_type": "code",
   "execution_count": 5,
   "id": "37ff79e2-dd96-490b-a606-8fd0d3d3dbec",
   "metadata": {},
   "outputs": [
    {
     "name": "stdout",
     "output_type": "stream",
     "text": [
      "[1, 4, 9, 16, 25]\n"
     ]
    }
   ],
   "source": [
    "numbers = [1, 2, 3, 4, 5]\n",
    "square=list(map(lambda x:x**2,numbers))\n",
    "print(square)"
   ]
  },
  {
   "cell_type": "code",
   "execution_count": null,
   "id": "e2058ca5-2b4f-4661-b5e2-6df1442661ba",
   "metadata": {},
   "outputs": [],
   "source": [
    "# 10. What is the difference between `map()`, `reduce()`, and `filter()` functions in Python?\n",
    "''' Map Function in Python\n",
    "       The map () function returns a map object(which is an iterator) of the results after applying the given function to each item of a given iterable (list, tuple, etc.).\n",
    "        Syntax: \n",
    "        map(function, iterables)\n",
    "    Reduce Function in Python\n",
    "       The reduce function is used to apply a particular function passed in its argument to all of the list elements mentioned in the sequence passed along.\n",
    "       It's not a python function we need to import it from functools\n",
    "       Syntax:\n",
    "        reduce(function,iterables)\n",
    "    Filter Function in Python\n",
    "        The filter() method filters the given sequence with the help of a function that tests each element in the sequence to be true or not.\n",
    "        Syntax:\n",
    "        filter(function,iterable)'''"
   ]
  },
  {
   "cell_type": "code",
   "execution_count": 25,
   "id": "1e85cef9-5b3f-4041-b388-d516f365e4b3",
   "metadata": {},
   "outputs": [
    {
     "ename": "TypeError",
     "evalue": "'list' object is not callable",
     "output_type": "error",
     "traceback": [
      "\u001b[1;31m---------------------------------------------------------------------------\u001b[0m",
      "\u001b[1;31mTypeError\u001b[0m                                 Traceback (most recent call last)",
      "Cell \u001b[1;32mIn[25], line 6\u001b[0m\n\u001b[0;32m      4\u001b[0m numbers \u001b[38;5;241m=\u001b[39m [\u001b[38;5;241m5\u001b[39m, \u001b[38;5;241m6\u001b[39m, \u001b[38;5;241m7\u001b[39m, \u001b[38;5;241m8\u001b[39m]\n\u001b[0;32m      5\u001b[0m result \u001b[38;5;241m=\u001b[39m \u001b[38;5;28mmap\u001b[39m(double, numbers)\n\u001b[1;32m----> 6\u001b[0m \u001b[38;5;28mprint\u001b[39m(\u001b[38;5;28mlist\u001b[39m(result))\n",
      "\u001b[1;31mTypeError\u001b[0m: 'list' object is not callable"
     ]
    }
   ],
   "source": [
    "# Example of map function \n",
    "def double(n):\n",
    "    return n * 2\n",
    "numbers = [5, 6, 7, 8]\n",
    "result = map(double, numbers)\n",
    "print(list(result))                  # can you explain the error not able to rectify it "
   ]
  },
  {
   "cell_type": "code",
   "execution_count": 27,
   "id": "a10d7fce-0490-4c84-9721-2b40c12e6db6",
   "metadata": {},
   "outputs": [
    {
     "ename": "TypeError",
     "evalue": "'list' object is not callable",
     "output_type": "error",
     "traceback": [
      "\u001b[1;31m---------------------------------------------------------------------------\u001b[0m",
      "\u001b[1;31mTypeError\u001b[0m                                 Traceback (most recent call last)",
      "Cell \u001b[1;32mIn[27], line 3\u001b[0m\n\u001b[0;32m      1\u001b[0m \u001b[38;5;66;03m# Example of filter\u001b[39;00m\n\u001b[0;32m      2\u001b[0m l\u001b[38;5;241m=\u001b[39m[\u001b[38;5;241m1\u001b[39m,\u001b[38;5;241m2\u001b[39m,\u001b[38;5;241m3\u001b[39m,\u001b[38;5;241m4\u001b[39m,\u001b[38;5;241m5\u001b[39m,\u001b[38;5;241m6\u001b[39m,\u001b[38;5;241m7\u001b[39m,\u001b[38;5;241m8\u001b[39m,\u001b[38;5;241m9\u001b[39m]\n\u001b[1;32m----> 3\u001b[0m \u001b[38;5;28mlist\u001b[39m(\u001b[38;5;28mfilter\u001b[39m(\u001b[38;5;28;01mlambda\u001b[39;00m x:x\u001b[38;5;241m%\u001b[39m\u001b[38;5;241m2\u001b[39m\u001b[38;5;241m==\u001b[39m\u001b[38;5;241m0\u001b[39m,l))\n",
      "\u001b[1;31mTypeError\u001b[0m: 'list' object is not callable"
     ]
    }
   ],
   "source": [
    "# Example of filter\n",
    "l=[1,2,3,4,5,6,7,8,9]\n",
    "list(filter(lambda x:x%2==0,l))"
   ]
  },
  {
   "cell_type": "code",
   "execution_count": 33,
   "id": "172ba63d-8387-4cea-8213-3bbb2966698c",
   "metadata": {},
   "outputs": [
    {
     "data": {
      "text/plain": [
       "113"
      ]
     },
     "execution_count": 33,
     "metadata": {},
     "output_type": "execute_result"
    }
   ],
   "source": [
    "# Example of reduce function \n",
    "# 11.Using pen & Paper write the internal mechanism for sum operation using  reduce function on this given list:[47,11,42,13]\n",
    "from functools import reduce \n",
    "list=[47,11,42,13]\n",
    "reduce(lambda x,y:x+y,list)"
   ]
  },
  {
   "cell_type": "code",
   "execution_count": null,
   "id": "6e0cf0ab-1656-415a-8516-07c262592e14",
   "metadata": {},
   "outputs": [],
   "source": []
  }
 ],
 "metadata": {
  "kernelspec": {
   "display_name": "Python 3 (ipykernel)",
   "language": "python",
   "name": "python3"
  },
  "language_info": {
   "codemirror_mode": {
    "name": "ipython",
    "version": 3
   },
   "file_extension": ".py",
   "mimetype": "text/x-python",
   "name": "python",
   "nbconvert_exporter": "python",
   "pygments_lexer": "ipython3",
   "version": "3.12.4"
  }
 },
 "nbformat": 4,
 "nbformat_minor": 5
}
